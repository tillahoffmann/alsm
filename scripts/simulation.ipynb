{
 "cells": [
  {
   "cell_type": "code",
   "execution_count": null,
   "metadata": {},
   "outputs": [],
   "source": [
    "import alsm\n",
    "from matplotlib import pyplot as plt\n",
    "import matplotlib as mpl\n",
    "import nest_asyncio\n",
    "import numpy as np\n",
    "import os\n",
    "import stan\n",
    "from scipy.linalg import orthogonal_procrustes\n",
    "\n",
    "\n",
    "mpl.rcParams['figure.dpi'] = 144\n",
    "nest_asyncio.apply()\n",
    "\n",
    "GROUP_SIMULATION = int(os.environ.get('GROUP_SIMULATION', 0))\n",
    "\n",
    "# Choose whether to simulate the detailed connections or sample from the negative binomial directly.\n",
    "# This is useful for testing whether the negative-binomial approximation substantially affects the\n",
    "# inference.\n",
    "if GROUP_SIMULATION:\n",
    "    generator = alsm.generate_group_data\n",
    "else:\n",
    "    generator = alsm.generate_data"
   ]
  },
  {
   "cell_type": "code",
   "execution_count": null,
   "metadata": {},
   "outputs": [],
   "source": [
    "# Generate a network.\n",
    "seed = 1\n",
    "num_groups = 10\n",
    "num_dims = 2\n",
    "\n",
    "np.random.seed(seed)\n",
    "group_sizes = np.random.poisson(100, num_groups)\n",
    "data = generator(\n",
    "    group_sizes,\n",
    "    num_dims,\n",
    "    group_scales=np.random.gamma(10, 1 / 15, num_groups),\n",
    "    population_scale=3,\n",
    "    propensity=0.1,\n",
    ")\n",
    "\n",
    "# Plot the detailed network if it was generated.\n",
    "if 'locs' in data:\n",
    "    fig, (ax1, ax2) = plt.subplots(1, 2, sharex=True, sharey=True)\n",
    "    ax1.scatter(*data['locs'].T, c=data['group_idx'], cmap='tab10', marker='.')\n",
    "    alsm.plot_edges(data['locs'], data['adjacency'], ax=ax1, alpha=.2, zorder=0)\n",
    "    ax1.set_aspect('equal')\n",
    "else:\n",
    "    fig, ax2 = plt.subplots()\n",
    "\n",
    "# Plot the aggregate network and the radius of clusters.\n",
    "pts = ax2.scatter(*data['group_locs'].T, c=np.arange(num_groups), cmap='tab10')\n",
    "alsm.plot_edges(data['group_locs'], data['group_adjacency'], ax=ax2, zorder=0, alpha_min=.1)\n",
    "ax2.set_aspect('equal')\n",
    "\n",
    "plt.draw()\n",
    "for color, group_loc, group_scale in zip(pts.get_facecolors(), data['group_locs'], data['group_scales']):\n",
    "    circle = mpl.patches.Circle(group_loc, 2 * group_scale, color=color, alpha=.25)\n",
    "    ax2.add_patch(circle)\n",
    "\n",
    "ax2.autoscale_view()\n",
    "\n",
    "print(f'mean degree: {data[\"group_adjacency\"].sum() / data[\"num_nodes\"]:.3f}')"
   ]
  },
  {
   "cell_type": "code",
   "execution_count": null,
   "metadata": {},
   "outputs": [],
   "source": [
    "# Fit the model.\n",
    "data['epsilon'] = 1e-12\n",
    "posterior = stan.build(alsm.model.GROUP_MODEL, data=data, random_seed=seed)\n",
    "fit = posterior.sample(num_chains=4, num_warmup=1000, num_samples=200)"
   ]
  },
  {
   "cell_type": "code",
   "execution_count": null,
   "metadata": {},
   "outputs": [],
   "source": [
    "# Get the best chain and align the samples with one another.\n",
    "chain = alsm.get_chain(fit, 'best')\n",
    "samples = np.rollaxis(chain['group_locs'], -1)\n",
    "aligned = alsm.align_samples(samples)\n",
    "\n",
    "# Align the samples to the reference data.\n",
    "reference = data['group_locs'] - data['group_locs'].mean(axis=0)\n",
    "transform, _ = orthogonal_procrustes(np.mean(aligned, axis=0), reference)\n",
    "aligned = aligned @ transform\n",
    "\n",
    "# Show the scatter plot.\n",
    "fig, ax = plt.subplots()\n",
    "ax.scatter(*aligned.T, cmap='tab10', marker='.', alpha=.1, label='posterior samples',\n",
    "           c=np.arange(num_groups)[:, None] * np.ones(aligned.shape[0]))\n",
    "pts = ax.scatter(*reference.T, c=np.arange(num_groups), marker='X', cmap='tab10', label='reference')\n",
    "pts.set_edgecolor('w')\n",
    "ax.set_aspect('equal')\n",
    "ax.legend(fontsize='small')\n",
    "\n",
    "fig.tight_layout()"
   ]
  },
  {
   "cell_type": "code",
   "execution_count": null,
   "metadata": {},
   "outputs": [],
   "source": [
    "# Compare group scales and the propensity.\n",
    "fig, (ax1, ax2) = plt.subplots(1, 2)\n",
    "\n",
    "ax1.hist(chain['propensity'], density=True)\n",
    "ax1.axvline(data['propensity'], color='k', ls=':')\n",
    "ax1.set_xlabel(r'Propensity $\\alpha$')\n",
    "ax1.set_ylabel(r'Posterior $P(\\alpha)$')\n",
    "\n",
    "l, m, u = np.percentile(chain['group_scales'], [2.5, 50, 97.5], axis=-1)\n",
    "x = data['group_scales']\n",
    "lims = x.min(), x.max()\n",
    "ax2.plot(lims, lims, color='k', ls=':')\n",
    "ax2.errorbar(x, m, (m - l, u - m), color='silver', ls='none')\n",
    "ax2.scatter(x, m, c=np.arange(num_groups), cmap='tab10', zorder=2)\n",
    "ax2.set_aspect('equal')\n",
    "ax2.set_xlabel(r'Group scales $\\sigma$')\n",
    "ax2.set_ylabel(r'Inferred group scales')\n",
    "\n",
    "fig.tight_layout()"
   ]
  },
  {
   "cell_type": "code",
   "execution_count": null,
   "metadata": {},
   "outputs": [],
   "source": [
    "# Show the posterior predictive replication.\n",
    "fig, ax = plt.subplots()\n",
    "\n",
    "x = data['group_adjacency'].ravel()\n",
    "ys = chain['ppd_group_adjacency'].reshape(x.shape + (-1,))\n",
    "l, m, u = np.percentile(ys, [2.5, 50, 97.5], axis=-1)\n",
    "lims = x.min(), x.max()\n",
    "ax.plot(lims, lims, color='k', ls=':')\n",
    "ax.errorbar(x, m, (m - l, u - m), ls='none', marker='.')\n",
    "ax.set_aspect('equal')\n",
    "ax.set_xscale('log')\n",
    "ax.set_yscale('log')\n",
    "ax.set_xlabel('Group adjacency $Y$')\n",
    "ax.set_ylabel('Group adjacency posterior replicates')\n",
    "fig.tight_layout()"
   ]
  }
 ],
 "metadata": {
  "interpreter": {
   "hash": "0c97dcb5c0054cba41502fd6f9307330b19a83f9950bf6ba8d28b04fc06a0199"
  },
  "kernelspec": {
   "display_name": "Python 3.8.10 64-bit ('alsm': pyenv)",
   "name": "python3"
  },
  "language_info": {
   "codemirror_mode": {
    "name": "ipython",
    "version": 3
   },
   "file_extension": ".py",
   "mimetype": "text/x-python",
   "name": "python",
   "nbconvert_exporter": "python",
   "pygments_lexer": "ipython3",
   "version": "3.8.10"
  },
  "orig_nbformat": 4
 },
 "nbformat": 4,
 "nbformat_minor": 2
}
